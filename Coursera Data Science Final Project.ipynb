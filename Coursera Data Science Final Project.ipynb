{
 "cells": [
  {
   "cell_type": "markdown",
   "metadata": {},
   "source": [
    "# Brazilian Real State: Best Renting Locations in São Paulo\n",
    "\n",
    "### Case description\n",
    "\n",
    "#### A Real State company called \"Rich Buildings\" wishes to buy a property in São Paulo City, Brazil, to rent/sell it for a high price to the senior audience.\n",
    "\n",
    "The company hires you as a freelancer data science and in a requirements meeting they set up their expectations:\n",
    "\n",
    "1) Find out what neighborhoods have the best cost benefit for square meters (top 5).\n",
    "\n",
    "2) For each one of those top 5 neighborhoods, find out: The most frequent top 5 venues.\n",
    "\n",
    "3) Group similar neighborhoods based on the venues nearby.\n",
    "\n",
    "Your goal is to provide the company the insights they need to help making the decision: Which neighborhood is the best choice for buying a property based on the targeted audience?"
   ]
  },
  {
   "cell_type": "markdown",
   "metadata": {},
   "source": [
    "### Dataset\n",
    "\n",
    "#### Apartment Prices by Felipecabueno - Kaggle: https://www.kaggle.com/felipecabueno/apartment-prices-in-sao-paulo-br-2020\n",
    "\n",
    "##### This dataset cointains 7 columns regarding the attributes of the apartments located in the city of São Paulo, Brazil. The attributes are:\n",
    "\n",
    "Neighborhood, Square Meters, Number of Bedrooms, Number of Bathrooms, Suites, Parking Spaces and Final Price.\n",
    "\n",
    "\n",
    "\n",
    "The dataset will be used to perform the following anaylsis:\n",
    "\n",
    "1) Price estimation based on coordinates (regression).\n",
    "\n",
    "2) Find out the highest square_meters/price ratio and order top n descending (initial n = 10).\n",
    "\n",
    "3) Clustering of the apartments' features to see if there is any hidden pattern (exploratory analysis/maybe cluster the square_meters/price ratio).\n",
    "\n",
    "4) Clustering of the nearby venues. This will give the stakeholders the insights for what type of neighborhood is the one in question."
   ]
  },
  {
   "cell_type": "markdown",
   "metadata": {},
   "source": [
    "### Part 1: Dataset reading and pre-processing data"
   ]
  },
  {
   "cell_type": "code",
   "execution_count": 12,
   "metadata": {},
   "outputs": [],
   "source": [
    "import pandas as pd\n",
    "import numpy as np"
   ]
  },
  {
   "cell_type": "code",
   "execution_count": 3,
   "metadata": {},
   "outputs": [],
   "source": [
    "df = pd.read_csv(\"apartments_sp.csv\")"
   ]
  },
  {
   "cell_type": "code",
   "execution_count": 4,
   "metadata": {},
   "outputs": [
    {
     "data": {
      "text/html": [
       "<div>\n",
       "<style scoped>\n",
       "    .dataframe tbody tr th:only-of-type {\n",
       "        vertical-align: middle;\n",
       "    }\n",
       "\n",
       "    .dataframe tbody tr th {\n",
       "        vertical-align: top;\n",
       "    }\n",
       "\n",
       "    .dataframe thead th {\n",
       "        text-align: right;\n",
       "    }\n",
       "</style>\n",
       "<table border=\"1\" class=\"dataframe\">\n",
       "  <thead>\n",
       "    <tr style=\"text-align: right;\">\n",
       "      <th></th>\n",
       "      <th>neighborhood</th>\n",
       "      <th>square_meters</th>\n",
       "      <th>bedrooms</th>\n",
       "      <th>bathrooms</th>\n",
       "      <th>suites</th>\n",
       "      <th>parking_spaces</th>\n",
       "      <th>final_price</th>\n",
       "    </tr>\n",
       "  </thead>\n",
       "  <tbody>\n",
       "    <tr>\n",
       "      <th>0</th>\n",
       "      <td>bras</td>\n",
       "      <td>57</td>\n",
       "      <td>2</td>\n",
       "      <td>1</td>\n",
       "      <td>0</td>\n",
       "      <td>1</td>\n",
       "      <td>385.185</td>\n",
       "    </tr>\n",
       "    <tr>\n",
       "      <th>1</th>\n",
       "      <td>santa cecilia</td>\n",
       "      <td>430</td>\n",
       "      <td>4</td>\n",
       "      <td>3</td>\n",
       "      <td>0</td>\n",
       "      <td>5</td>\n",
       "      <td>3200.000</td>\n",
       "    </tr>\n",
       "    <tr>\n",
       "      <th>2</th>\n",
       "      <td>bras</td>\n",
       "      <td>57</td>\n",
       "      <td>2</td>\n",
       "      <td>1</td>\n",
       "      <td>0</td>\n",
       "      <td>1</td>\n",
       "      <td>410.000</td>\n",
       "    </tr>\n",
       "    <tr>\n",
       "      <th>3</th>\n",
       "      <td>santa cecilia</td>\n",
       "      <td>250</td>\n",
       "      <td>4</td>\n",
       "      <td>3</td>\n",
       "      <td>0</td>\n",
       "      <td>2</td>\n",
       "      <td>1200.000</td>\n",
       "    </tr>\n",
       "    <tr>\n",
       "      <th>4</th>\n",
       "      <td>consolacao</td>\n",
       "      <td>177</td>\n",
       "      <td>3</td>\n",
       "      <td>3</td>\n",
       "      <td>0</td>\n",
       "      <td>1</td>\n",
       "      <td>1390.000</td>\n",
       "    </tr>\n",
       "  </tbody>\n",
       "</table>\n",
       "</div>"
      ],
      "text/plain": [
       "    neighborhood  square_meters  bedrooms  bathrooms  suites  parking_spaces  \\\n",
       "0           bras             57         2          1       0               1   \n",
       "1  santa cecilia            430         4          3       0               5   \n",
       "2           bras             57         2          1       0               1   \n",
       "3  santa cecilia            250         4          3       0               2   \n",
       "4     consolacao            177         3          3       0               1   \n",
       "\n",
       "   final_price  \n",
       "0      385.185  \n",
       "1     3200.000  \n",
       "2      410.000  \n",
       "3     1200.000  \n",
       "4     1390.000  "
      ]
     },
     "execution_count": 4,
     "metadata": {},
     "output_type": "execute_result"
    }
   ],
   "source": [
    "df.head()"
   ]
  },
  {
   "cell_type": "code",
   "execution_count": 5,
   "metadata": {},
   "outputs": [
    {
     "data": {
      "text/html": [
       "<div>\n",
       "<style scoped>\n",
       "    .dataframe tbody tr th:only-of-type {\n",
       "        vertical-align: middle;\n",
       "    }\n",
       "\n",
       "    .dataframe tbody tr th {\n",
       "        vertical-align: top;\n",
       "    }\n",
       "\n",
       "    .dataframe thead th {\n",
       "        text-align: right;\n",
       "    }\n",
       "</style>\n",
       "<table border=\"1\" class=\"dataframe\">\n",
       "  <thead>\n",
       "    <tr style=\"text-align: right;\">\n",
       "      <th></th>\n",
       "      <th>square_meters</th>\n",
       "      <th>bedrooms</th>\n",
       "      <th>bathrooms</th>\n",
       "      <th>suites</th>\n",
       "      <th>parking_spaces</th>\n",
       "      <th>final_price</th>\n",
       "    </tr>\n",
       "  </thead>\n",
       "  <tbody>\n",
       "    <tr>\n",
       "      <th>count</th>\n",
       "      <td>15703.000000</td>\n",
       "      <td>15703.000000</td>\n",
       "      <td>15703.000000</td>\n",
       "      <td>15703.000000</td>\n",
       "      <td>15703.000000</td>\n",
       "      <td>15703.000000</td>\n",
       "    </tr>\n",
       "    <tr>\n",
       "      <th>mean</th>\n",
       "      <td>128.062345</td>\n",
       "      <td>2.860664</td>\n",
       "      <td>2.467045</td>\n",
       "      <td>0.763357</td>\n",
       "      <td>1.844870</td>\n",
       "      <td>995.773735</td>\n",
       "    </tr>\n",
       "    <tr>\n",
       "      <th>std</th>\n",
       "      <td>93.374991</td>\n",
       "      <td>0.783342</td>\n",
       "      <td>1.266961</td>\n",
       "      <td>1.069804</td>\n",
       "      <td>1.014796</td>\n",
       "      <td>858.878453</td>\n",
       "    </tr>\n",
       "    <tr>\n",
       "      <th>min</th>\n",
       "      <td>23.000000</td>\n",
       "      <td>1.000000</td>\n",
       "      <td>1.000000</td>\n",
       "      <td>0.000000</td>\n",
       "      <td>1.000000</td>\n",
       "      <td>100.000000</td>\n",
       "    </tr>\n",
       "    <tr>\n",
       "      <th>25%</th>\n",
       "      <td>65.000000</td>\n",
       "      <td>2.000000</td>\n",
       "      <td>2.000000</td>\n",
       "      <td>0.000000</td>\n",
       "      <td>1.000000</td>\n",
       "      <td>430.000000</td>\n",
       "    </tr>\n",
       "    <tr>\n",
       "      <th>50%</th>\n",
       "      <td>96.000000</td>\n",
       "      <td>3.000000</td>\n",
       "      <td>2.000000</td>\n",
       "      <td>0.000000</td>\n",
       "      <td>2.000000</td>\n",
       "      <td>745.000000</td>\n",
       "    </tr>\n",
       "    <tr>\n",
       "      <th>75%</th>\n",
       "      <td>160.000000</td>\n",
       "      <td>3.000000</td>\n",
       "      <td>3.000000</td>\n",
       "      <td>1.000000</td>\n",
       "      <td>2.000000</td>\n",
       "      <td>1272.000000</td>\n",
       "    </tr>\n",
       "    <tr>\n",
       "      <th>max</th>\n",
       "      <td>864.000000</td>\n",
       "      <td>8.000000</td>\n",
       "      <td>10.000000</td>\n",
       "      <td>8.000000</td>\n",
       "      <td>10.000000</td>\n",
       "      <td>11000.000000</td>\n",
       "    </tr>\n",
       "  </tbody>\n",
       "</table>\n",
       "</div>"
      ],
      "text/plain": [
       "       square_meters      bedrooms     bathrooms        suites  \\\n",
       "count   15703.000000  15703.000000  15703.000000  15703.000000   \n",
       "mean      128.062345      2.860664      2.467045      0.763357   \n",
       "std        93.374991      0.783342      1.266961      1.069804   \n",
       "min        23.000000      1.000000      1.000000      0.000000   \n",
       "25%        65.000000      2.000000      2.000000      0.000000   \n",
       "50%        96.000000      3.000000      2.000000      0.000000   \n",
       "75%       160.000000      3.000000      3.000000      1.000000   \n",
       "max       864.000000      8.000000     10.000000      8.000000   \n",
       "\n",
       "       parking_spaces   final_price  \n",
       "count    15703.000000  15703.000000  \n",
       "mean         1.844870    995.773735  \n",
       "std          1.014796    858.878453  \n",
       "min          1.000000    100.000000  \n",
       "25%          1.000000    430.000000  \n",
       "50%          2.000000    745.000000  \n",
       "75%          2.000000   1272.000000  \n",
       "max         10.000000  11000.000000  "
      ]
     },
     "execution_count": 5,
     "metadata": {},
     "output_type": "execute_result"
    }
   ],
   "source": [
    "df.describe()"
   ]
  },
  {
   "cell_type": "code",
   "execution_count": 9,
   "metadata": {},
   "outputs": [
    {
     "data": {
      "text/plain": [
       "680"
      ]
     },
     "execution_count": 9,
     "metadata": {},
     "output_type": "execute_result"
    }
   ],
   "source": [
    "df['neighborhood'].unique().size"
   ]
  },
  {
   "cell_type": "code",
   "execution_count": null,
   "metadata": {},
   "outputs": [],
   "source": []
  },
  {
   "cell_type": "code",
   "execution_count": 11,
   "metadata": {},
   "outputs": [
    {
     "name": "stdout",
     "output_type": "stream",
     "text": [
      "bras\n",
      "Entrou no loop Geocoder\n",
      "lat_lng_coords =  [-23.542769999999962, -46.61999999999995]\n",
      "[-23.542769999999962, -46.61999999999995]\n",
      "santa cecilia\n",
      "Entrou no loop Geocoder\n",
      "lat_lng_coords =  [-23.535919999999976, -46.657749999999965]\n",
      "[-23.535919999999976, -46.657749999999965]\n",
      "[[-23.542769999999962, -46.61999999999995], [-23.535919999999976, -46.657749999999965]]\n"
     ]
    }
   ],
   "source": [
    "import geocoder # import geocoder\n",
    "from time import sleep\n",
    "\n",
    "#initialize your variable to None\n",
    "lat_lng_coords = None\n",
    "latlng_list = []\n",
    "\n",
    "postal_codes = ['01000-xxx']\n",
    "postal_codes = ['bras', 'santa cecilia']\n",
    "\n",
    "\n",
    "#loop until you get the coordinates\n",
    "for postal_code in postal_codes:\n",
    "    sleep(1)\n",
    "    print(postal_code)\n",
    "    while(lat_lng_coords is None):\n",
    "        print(\"Entrou no loop Geocoder\")\n",
    "        g = geocoder.arcgis('{}, São Paulo, São Paulo'.format(postal_code))\n",
    "        lat_lng_coords = g.latlng\n",
    "        print(\"lat_lng_coords = \", lat_lng_coords)\n",
    "        sleep(1)\n",
    "    latlng_list.append(lat_lng_coords)\n",
    "    print(lat_lng_coords)\n",
    "    #latitude = lat_lng_coords[0]\n",
    "    #longitude = lat_lng_coords[1]\n",
    "    lat_lng_coords = None\n",
    "print(latlng_list)"
   ]
  },
  {
   "cell_type": "code",
   "execution_count": null,
   "metadata": {},
   "outputs": [],
   "source": []
  }
 ],
 "metadata": {
  "kernelspec": {
   "display_name": "Python 3",
   "language": "python",
   "name": "python3"
  },
  "language_info": {
   "codemirror_mode": {
    "name": "ipython",
    "version": 3
   },
   "file_extension": ".py",
   "mimetype": "text/x-python",
   "name": "python",
   "nbconvert_exporter": "python",
   "pygments_lexer": "ipython3",
   "version": "3.7.7"
  }
 },
 "nbformat": 4,
 "nbformat_minor": 4
}
